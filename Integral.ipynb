{
 "cells": [
  {
   "cell_type": "markdown",
   "id": "e00bbaad-4ca4-409e-82e9-daf5cea13b0b",
   "metadata": {},
   "source": [
    "# Integrasi numerik\n",
    "\n",
    "Tujuan dari praktikum ini adalah Anda mampu coding menggunakan python untuk menghitung integral secara numerik menggunakan metode:\n",
    "1. Trapezoidal rule\n",
    "2. Simpson's 1/3 rule\n",
    "3. Simpson's 3/8 rule\n",
    "4. Romberg, dan\n",
    "5. Gauss-Legendre    "
   ]
  },
  {
   "cell_type": "markdown",
   "id": "58f723ba-2e57-4048-a3bb-0151a7b0ee49",
   "metadata": {},
   "source": [
    "## 01 - Trapezoidal rule\n",
    "\n",
    "Trapezoidal rule memiliki formula:\n",
    "\\begin{equation}\n",
    "I(f)\\approx (b-a)\\frac{f(a)+f(b)}{2}\n",
    "\\end{equation}\n",
    "\n",
    "Sebagai contoh hitunglah:\n",
    "\\begin{equation}\n",
    "I=\\int_{0}^{1}\\frac{dx}{1+x}\n",
    "\\end{equation}"
   ]
  },
  {
   "cell_type": "code",
   "execution_count": 48,
   "id": "6462953e-7915-49cc-ac16-4bc46e5e1286",
   "metadata": {},
   "outputs": [
    {
     "data": {
      "image/png": "[encoded data removed]",
      "text/plain": [
       "<Figure size 432x288 with 1 Axes>"
      ]
     },
     "metadata": {
      "needs_background": "light"
     },
     "output_type": "display_data"
    }
   ],
   "source": [
    "import matplotlib.pyplot as plt\n",
    "import numpy as np\n",
    "from sympy import *\n",
    "\n",
    "N=51\n",
    "dx=1/(N-1)\n",
    "x=np.arange(N,dtype=float)*dx\n",
    "y=1/(1+x)\n",
    "\n",
    "#use symbolic\n",
    "xs,ys = symbols(\"xs ys\")\n",
    "ys=1/(1+xs)\n",
    "\n",
    "#hasil integrasi numerik\n",
    "integral1=0.5*(ys.subs(xs,0)+ys.subs(xs,1))\n",
    "\n",
    "#plot\n",
    "#trapezoidal\n",
    "nsegmen=1\n",
    "x2=np.arange(2,dtype=float)\n",
    "y2=-0.5*x1+1\n",
    "\n",
    "plt.plot(x,y)\n",
    "plt.plot(x2,y2)\n",
    "plt.xlabel(r\"$x$\")\n",
    "plt.ylabel(r\"$f(x)$\")\n",
    "plt.show()\n"
   ]
  },
  {
   "cell_type": "code",
   "execution_count": 49,
   "id": "983d9bbf-a6b0-4ecc-aeaa-5424fb2250a7",
   "metadata": {},
   "outputs": [
    {
     "data": {
      "text/latex": [
       "$\\displaystyle 0.75$"
      ],
      "text/plain": [
       "0.750000000000000"
      ]
     },
     "execution_count": 49,
     "metadata": {},
     "output_type": "execute_result"
    }
   ],
   "source": [
    "integral1"
   ]
  },
  {
   "cell_type": "code",
   "execution_count": 50,
   "id": "33026165-932c-414a-a098-90da9e4d0349",
   "metadata": {},
   "outputs": [
    {
     "data": {
      "text/plain": [
       "0.6931471805599453"
      ]
     },
     "execution_count": 50,
     "metadata": {},
     "output_type": "execute_result"
    }
   ],
   "source": [
    "np.log(2)"
   ]
  },
  {
   "cell_type": "code",
   "execution_count": 51,
   "id": "76f95b4f-c26c-428c-b4f6-c77e0465cbd2",
   "metadata": {},
   "outputs": [
    {
     "data": {
      "text/latex": [
       "$\\displaystyle -0.0568528194400547$"
      ],
      "text/plain": [
       "-0.0568528194400547"
      ]
     },
     "execution_count": 51,
     "metadata": {},
     "output_type": "execute_result"
    }
   ],
   "source": [
    "error=np.log(2)-integral1\n",
    "error"
   ]
  },
  {
   "cell_type": "markdown",
   "id": "737a078e-36e3-4de3-acee-4d96adb9b674",
   "metadata": {},
   "source": [
    "Trapezoidal rule for multiple-segment\n",
    "\n",
    "\\begin{equation}\n",
    "I(f)=\\frac{h}{2}\\left[f(a)+2\\sum_{i=1}^{n-1}f(x_i)+f(b)\\right]\n",
    "\\end{equation}\n",
    "\n",
    "Following is the python code to implement the above equation"
   ]
  },
  {
   "cell_type": "code",
   "execution_count": 52,
   "id": "c99cb3c6-b2f1-4a90-80bd-1ac13f89f332",
   "metadata": {},
   "outputs": [],
   "source": [
    "a=0 \n",
    "b=1 \n",
    "N=21\n",
    "h=(b-a)/(N-1)\n",
    "sum1=ys.subs(xs,a)\n",
    "for i in range(1,N-1):\n",
    "    xi=i*h\n",
    "    sum1 += 2*ys.subs(xs,xi)\n",
    "sum1 += ys.subs(xs,b)\n",
    "sum1 *= 0.5*h"
   ]
  },
  {
   "cell_type": "code",
   "execution_count": 53,
   "id": "38b182a7-4fea-4b19-8d29-79430363e30f",
   "metadata": {},
   "outputs": [
    {
     "data": {
      "text/latex": [
       "$\\displaystyle -0.000156201232748732$"
      ],
      "text/plain": [
       "-0.000156201232748732"
      ]
     },
     "execution_count": 53,
     "metadata": {},
     "output_type": "execute_result"
    }
   ],
   "source": [
    "np.log(2)-sum1"
   ]
  },
  {
   "cell_type": "markdown",
   "id": "5c1f6407-3346-4b1f-aa51-4322a568f546",
   "metadata": {},
   "source": [
    "## 02 Newton-Cotes: Simpson's 1/3 rule\n",
    "\n",
    "\\begin{equation}\n",
    "I(f)\\approx\\int_a^bP_2(x)dx=\\frac{h}{3}\\left[f(a)+4f(b)+f(x)\\right]\n",
    "\\end{equation}\n",
    "\n",
    "### Write python code for Simpson 1/3 rule!"
   ]
  },
  {
   "cell_type": "code",
   "execution_count": 54,
   "id": "2c075eba-33bf-45eb-800e-b4a0cc1c4110",
   "metadata": {},
   "outputs": [],
   "source": [
    "#Simpson 1/3 for single segment\n",
    "\n"
   ]
  },
  {
   "cell_type": "markdown",
   "id": "e59d17cc-3f05-4048-9c34-ebf77c44c3b2",
   "metadata": {},
   "source": [
    "\\begin{equation}\n",
    "I(f)=\\frac{h}{3}\\left[f(a)+4\\sum_{i=1,3,5,...}^{n-1}f(x_i)+2\\sum_{j=2,4,6,...}^{n-2}f(x_j)+f(x_n)\\right]\n",
    "\\end{equation}\n",
    "\n",
    "### Write code for Simpson 1/3 in case of multiple segments\n"
   ]
  },
  {
   "cell_type": "code",
   "execution_count": 55,
   "id": "69700132-f161-43b5-ae7a-27c1c056dd11",
   "metadata": {},
   "outputs": [],
   "source": [
    "#Simpson 1/3 for multiple segments\n"
   ]
  },
  {
   "cell_type": "markdown",
   "id": "31524b59-2192-43d1-b09d-fe8f637145f8",
   "metadata": {},
   "source": [
    "## 03 Newton-Cotes: Simpson 3/8 rule\n",
    "\n",
    "\\begin{equation}\n",
    "I(f)=\\frac{3h}{8}\\left[f(a)+3f(c)+3f(d)+f(b)\\right]\n",
    "\\end{equation}\n",
    "with\n",
    "\\begin{equation}\n",
    "c=\\frac{b-a}{3},\n",
    "\\end{equation}\n",
    "and\n",
    "\\begin{equation}\n",
    "d=2\\frac{b-a}{3}.\n",
    "\\end{equation}"
   ]
  },
  {
   "cell_type": "code",
   "execution_count": 56,
   "id": "3588d97d-ec69-46a0-9e26-8c6a4e4bfa6e",
   "metadata": {},
   "outputs": [],
   "source": [
    "# code for Simpson 3/8 for single segment\n"
   ]
  },
  {
   "cell_type": "markdown",
   "id": "fca10966-a3f8-4773-a0d2-3828cf202ba9",
   "metadata": {},
   "source": [
    "### Use your creativity to expand the formula for multiple-segment Simpson 3/8 rule!"
   ]
  },
  {
   "cell_type": "code",
   "execution_count": 57,
   "id": "34c65c49-c896-45dc-989f-ec55c8d0bd0c",
   "metadata": {},
   "outputs": [],
   "source": [
    "#code for simpson 3/8 and multiple-segment\n",
    "\n"
   ]
  },
  {
   "cell_type": "markdown",
   "id": "25347586-523d-4658-b0f8-5841816a721e",
   "metadata": {},
   "source": [
    "## 04 Romberg\n",
    "\\begin{equation}\n",
    "I(f)=\\frac{4}{3}I(h_2)-\\frac{1}{3}I(h_1)\n",
    "\\end{equation}\n",
    "with $h_2=\\frac{h_1}{2}$"
   ]
  },
  {
   "cell_type": "code",
   "execution_count": 58,
   "id": "3a63e4c9-e569-4a97-9c13-99e56756bcc5",
   "metadata": {},
   "outputs": [],
   "source": [
    "# code for Romberg\n"
   ]
  },
  {
   "cell_type": "code",
   "execution_count": null,
   "id": "55b16024-c3ae-4266-9486-b3e756568436",
   "metadata": {},
   "outputs": [],
   "source": []
  }
 ],
 "metadata": {
  "kernelspec": {
   "display_name": "Python 3 (ipykernel)",
   "language": "python",
   "name": "python3"
  },
  "language_info": {
   "codemirror_mode": {
    "name": "ipython",
    "version": 3
   },
   "file_extension": ".py",
   "mimetype": "text/x-python",
   "name": "python",
   "nbconvert_exporter": "python",
   "pygments_lexer": "ipython3",
   "version": "3.9.12"
  }
 },
 "nbformat": 4,
 "nbformat_minor": 5
}
