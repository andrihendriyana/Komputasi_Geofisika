{
 "cells": [
  {
   "cell_type": "markdown",
   "id": "f286e7d1",
   "metadata": {},
   "source": [
    "# Metode Numerik untuk Ordinary Differential Equation (ODE)\n",
    "\n",
    "Pada parktikum ini Anda akan mempelajari cara penyelesaian numerik persamaan ODE dengan implementasi python. Metode yang akan dipelajari meliputi,\n",
    "1. metode forward Euler\n",
    "2. metode Euler mid-point\n",
    "3. metode Heun / Runge-Kutta orde 2 (RK2)\n",
    "4. metode RK4\n",
    "\n",
    "Pada praktikum ini juga akan diberikan contoh kasus geofisika yaitu ray tracing.\n",
    "\n",
    "## 01 Contoh implementasi metode Euler\n",
    "\n",
    "Metode Euler sebenarnya diturunkan dari ekspansi Taylor (dinyatakan dalam notasi diskrit)\n",
    "\\begin{equation}\n",
    "T_{i+1}=T_i+f(t_i,T_i)\\Delta t+...\n",
    "\\end{equation}\n",
    "dengan $f(t_i,T_i)=\\frac{dT}{dt}$.\n",
    "\n",
    "Contoh:\n",
    "Perhatikan persamaan berikut,\n",
    "\\begin{equation}\n",
    "\\frac{dT}{dt}=tT\n",
    "\\end{equation}\n",
    "Hitunglah nilai $T$ pada rentang $t=0$ sd $t=2.5$ dengan interval $\\Delta t=0.25$ dan gunakan $T(t=0)=5$!"
   ]
  },
  {
   "cell_type": "code",
   "execution_count": 26,
   "id": "3308768f",
   "metadata": {},
   "outputs": [
    {
     "data": {
      "image/png": "[encoded data removed]",
      "text/plain": [
       "<Figure size 432x288 with 1 Axes>"
      ]
     },
     "metadata": {
      "needs_background": "light"
     },
     "output_type": "display_data"
    }
   ],
   "source": [
    "#python code for forward Euler\n",
    "\n",
    "import numpy as np\n",
    "from sympy import *\n",
    "import matplotlib.pyplot as plt\n",
    "\n",
    "t0=0\n",
    "t1=2.5\n",
    "dt=0.25\n",
    "N=int((t1-t0)/dt+1)\n",
    "tt=np.arange(N,dtype=float)*dt\n",
    "#metode euler\n",
    "TTe=np.zeros(N)\n",
    "\n",
    "#solusi analitik (lihat diktat kuliah persamaan 6c)\n",
    "Ta = 5*np.exp(0.5*tt*tt)\n",
    "\n",
    "#assign T(0)=5\n",
    "TTe[0]=5\n",
    "\n",
    "ff, ts,Ts = symbols(\"ff ts Ts\")\n",
    "ff = ts*Ts\n",
    "\n",
    "for ii in range(1,N):\n",
    "    fi = ff.subs([(ts,tt[ii-1]),(Ts,TTe[ii-1])])\n",
    "    TTe[ii] = TTe[ii-1] + fi*dt\n",
    "\n",
    "#plot solusi numerik\n",
    "plt.plot(tt,TTe,'ko')\n",
    "\n",
    "#plot solusi analitik\n",
    "plt.plot(tt,Ta,'b')\n",
    "\n",
    "plt.xlabel(r\"$t$\")\n",
    "plt.ylabel(r\"$T$\")\n",
    "plt.show()"
   ]
  },
  {
   "cell_type": "markdown",
   "id": "a9740588",
   "metadata": {},
   "source": [
    "Hitung truncation error pada masing-masing posisi grid dengan formula,\n",
    "\\begin{equation}\n",
    "error=analitik-numerik\n",
    "\\end{equation}"
   ]
  },
  {
   "cell_type": "code",
   "execution_count": 25,
   "id": "13a0b589",
   "metadata": {},
   "outputs": [
    {
     "data": {
      "image/png": "[encoded data removed]",
      "text/plain": [
       "<Figure size 432x288 with 1 Axes>"
      ]
     },
     "metadata": {
      "needs_background": "light"
     },
     "output_type": "display_data"
    }
   ],
   "source": [
    "#error euler\n",
    "\n",
    "ee=Ta-TTe\n",
    "\n",
    "plt.plot(tt,ee)\n",
    "plt.show()"
   ]
  },
  {
   "cell_type": "markdown",
   "id": "0b6697dc",
   "metadata": {},
   "source": [
    "Error meningkat ketika t membesar. Hal ini terjadi karena error pada grid $t_i$ akan terbawa atau berpropagasi dan terakumulasi ke perhitungan pada posisi berikutnya"
   ]
  },
  {
   "cell_type": "markdown",
   "id": "576bf498",
   "metadata": {},
   "source": [
    "## 02 Euler mid-point\n",
    "\n",
    "Pada metode ini, gradient $f$ yang digunakan merupakan nilai $f$ pada $t_{i+0.5}=t_i+0.5\\Delta t$, sehingga\n",
    "\\begin{equation}\n",
    "T_{i+1}=T_i+f(t_{i+0.5},T_{i+0.5})\\Delta t+...\n",
    "\\end{equation}\n",
    "dengan $T_{i+0.5}=T_i+f(t_{i},T_i)0.5\\Delta t$.\n"
   ]
  },
  {
   "cell_type": "code",
   "execution_count": 31,
   "id": "b999d33f",
   "metadata": {},
   "outputs": [
    {
     "data": {
      "image/png": "[encoded data removed]",
      "text/plain": [
       "<Figure size 432x288 with 1 Axes>"
      ]
     },
     "metadata": {
      "needs_background": "light"
     },
     "output_type": "display_data"
    }
   ],
   "source": [
    "#mid-point Euler\n",
    "\n",
    "#metode mid-point Euler\n",
    "TTem=np.zeros(N)\n",
    "#initial value\n",
    "TTem[0]=5\n",
    "\n",
    "for ii in range(1,N):\n",
    "    fi = ff.subs([(ts,tt[ii-1]),(Ts,TTe[ii-1])])\n",
    "    ymid = TTem[ii-1] + fi*0.5*dt\n",
    "    fi_mid = ff.subs([(ts, tt[ii-1]+0.5*dt),(Ts, ymid)])\n",
    "    TTem[ii] = TTem[ii-1] + fi_mid*dt\n",
    "    \n",
    "\n",
    "#plot solusi numerik\n",
    "#forward Euler\n",
    "plt.plot(tt,TTe,'ko')\n",
    "#mid-point Euler\n",
    "plt.plot(tt,TTem,'ro')\n",
    "\n",
    "#plot solusi analitik\n",
    "plt.plot(tt,Ta,'b')\n",
    "plt.show()"
   ]
  },
  {
   "cell_type": "markdown",
   "id": "0403766b",
   "metadata": {},
   "source": [
    "which one is better? (forward Euler or mid-point)"
   ]
  },
  {
   "cell_type": "markdown",
   "id": "aa0bdd3d",
   "metadata": {},
   "source": [
    "## 03 Metode Heun atau Runge-Kutta orde 2 (RK2)\n",
    "\n",
    "\n"
   ]
  },
  {
   "cell_type": "code",
   "execution_count": null,
   "id": "7de70ce6",
   "metadata": {},
   "outputs": [],
   "source": []
  }
 ],
 "metadata": {
  "kernelspec": {
   "display_name": "Python 3 (ipykernel)",
   "language": "python",
   "name": "python3"
  },
  "language_info": {
   "codemirror_mode": {
    "name": "ipython",
    "version": 3
   },
   "file_extension": ".py",
   "mimetype": "text/x-python",
   "name": "python",
   "nbconvert_exporter": "python",
   "pygments_lexer": "ipython3",
   "version": "3.9.12"
  }
 },
 "nbformat": 4,
 "nbformat_minor": 5
}
